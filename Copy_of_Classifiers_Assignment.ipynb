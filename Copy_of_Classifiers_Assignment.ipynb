{
 "cells": [
  {
   "cell_type": "markdown",
   "metadata": {
    "id": "HJM8Y9mh5o4H"
   },
   "source": [
    "#WELCOME\n",
    "In this Assignment, you'll use **Classifier** to predict the output. You are allowed to write/edit between the\n",
    "```# START CODE HERE``` & ```# END CODE HERE``` only.<br>\n",
    "Don't edit the test cells otherwise you'd be failed in the assignment.\n",
    "\n",
    "Upload the ```utils.zip``` file before running the 1st cell.\n",
    "[Demo](https://drive.google.com/file/d/1ebkQR6ikjGottmxa5KL83ZWdjTLvRxbm/view?usp=share_link)\n",
    "\n",
    "**BEST OF LUCK**"
   ]
  },
  {
   "cell_type": "markdown",
   "metadata": {
    "id": "cEl-4aFCkdsB"
   },
   "source": [
    "**RUN THIS CODE TO UNIZP THE REQUIRED FILES**"
   ]
  },
  {
   "cell_type": "code",
   "execution_count": null,
   "metadata": {
    "id": "mCdV1dV8kawl"
   },
   "outputs": [],
   "source": [
    "# !unzip -j /content/utils.zip -d."
   ]
  },
  {
   "cell_type": "markdown",
   "metadata": {
    "id": "VA4ZUSGu0Ox3"
   },
   "source": [
    "# Dataset Loading and Pre-Processing"
   ]
  },
  {
   "cell_type": "code",
   "execution_count": 104,
   "metadata": {
    "id": "_tP5JsNsqBsI"
   },
   "outputs": [],
   "source": [
    "import pandas as pd\n",
    "data = pd.read_csv(\"content/weather_classification_data.csv\")"
   ]
  },
  {
   "cell_type": "markdown",
   "metadata": {
    "id": "MBHkfY1c0gO6"
   },
   "source": [
    "## Data Info\n",
    "```data.info``` gives info about data-types and number of null objects.  \n",
    "There are no null data, no need to remove any."
   ]
  },
  {
   "cell_type": "code",
   "execution_count": 105,
   "metadata": {
    "id": "O-myJ9LmqG8J"
   },
   "outputs": [
    {
     "name": "stdout",
     "output_type": "stream",
     "text": [
      "<class 'pandas.core.frame.DataFrame'>\n",
      "RangeIndex: 13200 entries, 0 to 13199\n",
      "Data columns (total 11 columns):\n",
      " #   Column                Non-Null Count  Dtype  \n",
      "---  ------                --------------  -----  \n",
      " 0   Temperature           13200 non-null  float64\n",
      " 1   Humidity              13200 non-null  int64  \n",
      " 2   Wind Speed            13200 non-null  float64\n",
      " 3   Precipitation (%)     13200 non-null  float64\n",
      " 4   Cloud Cover           13200 non-null  object \n",
      " 5   Atmospheric Pressure  13200 non-null  float64\n",
      " 6   UV Index              13200 non-null  int64  \n",
      " 7   Season                13200 non-null  object \n",
      " 8   Visibility (km)       13200 non-null  float64\n",
      " 9   Location              13200 non-null  object \n",
      " 10  Weather Type          13200 non-null  object \n",
      "dtypes: float64(5), int64(2), object(4)\n",
      "memory usage: 1.1+ MB\n"
     ]
    }
   ],
   "source": [
    "data.info()"
   ]
  },
  {
   "cell_type": "markdown",
   "metadata": {
    "id": "98kT9K8a1LF9"
   },
   "source": [
    "## Data Shuffling\n",
    "Data Shuffling removes any bias present and creates uniform distribution."
   ]
  },
  {
   "cell_type": "code",
   "execution_count": 106,
   "metadata": {
    "id": "DJ6bkcTbz8kP"
   },
   "outputs": [
    {
     "data": {
      "text/html": [
       "<div>\n",
       "<style scoped>\n",
       "    .dataframe tbody tr th:only-of-type {\n",
       "        vertical-align: middle;\n",
       "    }\n",
       "\n",
       "    .dataframe tbody tr th {\n",
       "        vertical-align: top;\n",
       "    }\n",
       "\n",
       "    .dataframe thead th {\n",
       "        text-align: right;\n",
       "    }\n",
       "</style>\n",
       "<table border=\"1\" class=\"dataframe\">\n",
       "  <thead>\n",
       "    <tr style=\"text-align: right;\">\n",
       "      <th></th>\n",
       "      <th>Temperature</th>\n",
       "      <th>Humidity</th>\n",
       "      <th>Wind Speed</th>\n",
       "      <th>Precipitation (%)</th>\n",
       "      <th>Cloud Cover</th>\n",
       "      <th>Atmospheric Pressure</th>\n",
       "      <th>UV Index</th>\n",
       "      <th>Season</th>\n",
       "      <th>Visibility (km)</th>\n",
       "      <th>Location</th>\n",
       "      <th>Weather Type</th>\n",
       "    </tr>\n",
       "  </thead>\n",
       "  <tbody>\n",
       "    <tr>\n",
       "      <th>11429</th>\n",
       "      <td>40.0</td>\n",
       "      <td>104</td>\n",
       "      <td>14.0</td>\n",
       "      <td>92.0</td>\n",
       "      <td>overcast</td>\n",
       "      <td>1019.13</td>\n",
       "      <td>0</td>\n",
       "      <td>Summer</td>\n",
       "      <td>10.5</td>\n",
       "      <td>coastal</td>\n",
       "      <td>Cloudy</td>\n",
       "    </tr>\n",
       "    <tr>\n",
       "      <th>10851</th>\n",
       "      <td>-2.0</td>\n",
       "      <td>91</td>\n",
       "      <td>11.5</td>\n",
       "      <td>87.0</td>\n",
       "      <td>partly cloudy</td>\n",
       "      <td>984.36</td>\n",
       "      <td>0</td>\n",
       "      <td>Winter</td>\n",
       "      <td>3.5</td>\n",
       "      <td>inland</td>\n",
       "      <td>Snowy</td>\n",
       "    </tr>\n",
       "    <tr>\n",
       "      <th>11680</th>\n",
       "      <td>16.0</td>\n",
       "      <td>53</td>\n",
       "      <td>11.5</td>\n",
       "      <td>31.0</td>\n",
       "      <td>partly cloudy</td>\n",
       "      <td>1015.88</td>\n",
       "      <td>3</td>\n",
       "      <td>Summer</td>\n",
       "      <td>6.5</td>\n",
       "      <td>coastal</td>\n",
       "      <td>Cloudy</td>\n",
       "    </tr>\n",
       "    <tr>\n",
       "      <th>4193</th>\n",
       "      <td>32.0</td>\n",
       "      <td>88</td>\n",
       "      <td>15.0</td>\n",
       "      <td>85.0</td>\n",
       "      <td>overcast</td>\n",
       "      <td>1010.10</td>\n",
       "      <td>0</td>\n",
       "      <td>Summer</td>\n",
       "      <td>4.5</td>\n",
       "      <td>coastal</td>\n",
       "      <td>Rainy</td>\n",
       "    </tr>\n",
       "    <tr>\n",
       "      <th>8912</th>\n",
       "      <td>3.0</td>\n",
       "      <td>87</td>\n",
       "      <td>7.5</td>\n",
       "      <td>77.0</td>\n",
       "      <td>overcast</td>\n",
       "      <td>990.74</td>\n",
       "      <td>0</td>\n",
       "      <td>Winter</td>\n",
       "      <td>1.5</td>\n",
       "      <td>mountain</td>\n",
       "      <td>Snowy</td>\n",
       "    </tr>\n",
       "  </tbody>\n",
       "</table>\n",
       "</div>"
      ],
      "text/plain": [
       "       Temperature  Humidity  Wind Speed  Precipitation (%)    Cloud Cover  \\\n",
       "11429         40.0       104        14.0               92.0       overcast   \n",
       "10851         -2.0        91        11.5               87.0  partly cloudy   \n",
       "11680         16.0        53        11.5               31.0  partly cloudy   \n",
       "4193          32.0        88        15.0               85.0       overcast   \n",
       "8912           3.0        87         7.5               77.0       overcast   \n",
       "\n",
       "       Atmospheric Pressure  UV Index  Season  Visibility (km)  Location  \\\n",
       "11429               1019.13         0  Summer             10.5   coastal   \n",
       "10851                984.36         0  Winter              3.5    inland   \n",
       "11680               1015.88         3  Summer              6.5   coastal   \n",
       "4193                1010.10         0  Summer              4.5   coastal   \n",
       "8912                 990.74         0  Winter              1.5  mountain   \n",
       "\n",
       "      Weather Type  \n",
       "11429       Cloudy  \n",
       "10851        Snowy  \n",
       "11680       Cloudy  \n",
       "4193         Rainy  \n",
       "8912         Snowy  "
      ]
     },
     "execution_count": 106,
     "metadata": {},
     "output_type": "execute_result"
    }
   ],
   "source": [
    "from sklearn.utils import shuffle\n",
    "data = shuffle(data)\n",
    "data.head()"
   ]
  },
  {
   "cell_type": "markdown",
   "metadata": {
    "id": "7vKEzz9j19WQ"
   },
   "source": [
    "## Scaling and Labeling\n",
    "Machine can't understand string so all the object datatypes need to be LABELED with integers.<br><br>\n",
    "Why SCALING?<br>\n",
    "You might have noticed one column contains data with large values (of order 1000) whereas some column contain small value data (of order 10). As a result, large value columns get more power/importance than others. To remove this disparity we scaled them to same order/values."
   ]
  },
  {
   "cell_type": "markdown",
   "metadata": {
    "id": "TBg-lPJgzM4Y"
   },
   "source": [
    "**CODE**\n",
    "\n",
    "We need to find the columns with object datatypes.\n",
    "\n",
    "HINT: Use ```data.select_dtypes().columns.tolist()```<br>Reference: [w3schools](https://www.w3schools.com/python/pandas/ref_df_select_dtypes.asp#:~:text=The%20select_dtypes()%20method%20returns,the%20specified%20dtype(s).&text=Note%3A%20You%20must%20specify%20at,you%20will%20get%20an%20error.)"
   ]
  },
  {
   "cell_type": "code",
   "execution_count": 107,
   "metadata": {
    "id": "cIIKd53NpRKU"
   },
   "outputs": [
    {
     "name": "stdout",
     "output_type": "stream",
     "text": [
      "Object Columns: ['Cloud Cover', 'Season', 'Location', 'Weather Type']\n",
      "Non Object Columns: ['Temperature', 'Humidity', 'Wind Speed', 'Precipitation (%)', 'Atmospheric Pressure', 'UV Index', 'Visibility (km)']\n"
     ]
    }
   ],
   "source": [
    "# START CODE HERE\n",
    "object_columns = data.select_dtypes(include='object').columns.tolist()\n",
    "non_object_columns = data.select_dtypes(exclude='object').columns.tolist()\n",
    "# END CODE HERE\n",
    "print(f\"Object Columns: {object_columns}\\nNon Object Columns: {non_object_columns}\")"
   ]
  },
  {
   "cell_type": "markdown",
   "metadata": {
    "id": "KYlrJpdaAyKH"
   },
   "source": [
    "**TEST** (DON'T EDIT THIS CELL)"
   ]
  },
  {
   "cell_type": "code",
   "execution_count": 108,
   "metadata": {
    "id": "z4-pWLR5_fVf"
   },
   "outputs": [
    {
     "name": "stdout",
     "output_type": "stream",
     "text": [
      "\u001b[32mTest Passed\u001b[0m\n"
     ]
    }
   ],
   "source": [
    "# DON'T EDIT THIS CELL\n",
    "if (object_columns == ['Cloud Cover', 'Season', 'Location', 'Weather Type'] and non_object_columns == ['Temperature', 'Humidity', 'Wind Speed', 'Precipitation (%)', 'Atmospheric Pressure', 'UV Index', 'Visibility (km)']):\n",
    "  print(f\"\\033[32mTest Passed\\033[0m\")\n",
    "else:\n",
    "  print(f\"\\033[31mTest Failed\\033[0m\")"
   ]
  },
  {
   "cell_type": "markdown",
   "metadata": {
    "id": "reVHprk6z_nD"
   },
   "source": [
    "**CODE**\n",
    "\n",
    "We need to convert the object-type columns data into integral labels and scale the non-object-type columns data.\n",
    "\n",
    "HINT: Use ```ColumnTransformer()```<br>Reference: [scikit-learn](https://scikit-learn.org/stable/modules/generated/sklearn.compose.ColumnTransformer.html), [ChatGPT](https://chatgpt.com/c/7f3c1b02-5da0-4c34-bdb2-d999dccb9c2f)"
   ]
  },
  {
   "cell_type": "code",
   "execution_count": 109,
   "metadata": {
    "id": "kVT5qfqarRhF"
   },
   "outputs": [],
   "source": [
    "from sklearn.preprocessing import OrdinalEncoder, StandardScaler\n",
    "from sklearn.compose import ColumnTransformer\n",
    "\n",
    "# START CODE HERE\n",
    "\n",
    "column_transformer = ColumnTransformer(transformers=[\n",
    "    ('oe', OrdinalEncoder(), object_columns),\n",
    "    ('ss', StandardScaler(), non_object_columns)\n",
    "], remainder='passthrough')\n",
    "# Fit and transform the data\n",
    "data_scaled_labeled = column_transformer.fit_transform(data)\n",
    "\n",
    "# END CODE HERE\n",
    "\n",
    "all_columns = object_columns + non_object_columns\n",
    "\n",
    "# Create the new DataFrame\n",
    "data_scaled_labeled = pd.DataFrame(data_scaled_labeled, columns=all_columns)"
   ]
  },
  {
   "cell_type": "markdown",
   "metadata": {
    "id": "2AvKGjfJk3cY"
   },
   "source": [
    "**TEST** (DON'T EDIT THIS CELL)"
   ]
  },
  {
   "cell_type": "code",
   "execution_count": 110,
   "metadata": {
    "id": "7mT4H6o5D-mN"
   },
   "outputs": [
    {
     "name": "stdout",
     "output_type": "stream",
     "text": [
      "\u001b[32mTest Passed\u001b[0m\n"
     ]
    }
   ],
   "source": [
    "# DON'T EDIT THIS CELL\n",
    "\n",
    "data_scaled_labeled_check = pd.read_csv(\"content/data_scaled_labeled_check.csv\")\n",
    "import numpy as np\n",
    "data_scaled_labeled_values = np.sort(data_scaled_labeled.values,axis=0)\n",
    "data_scaled_labeled_check_values = np.sort(data_scaled_labeled_check.values,axis=0)\n",
    "if np.allclose(data_scaled_labeled_values, data_scaled_labeled_check_values, equal_nan=True):\n",
    "  print(f\"\\033[32mTest Passed\\033[0m\")\n",
    "else:\n",
    "  print(f\"\\033[31mTest Failed\\033[0m\")"
   ]
  },
  {
   "cell_type": "markdown",
   "metadata": {
    "id": "wpIxEziM2EYr"
   },
   "source": [
    "## Data Splitting"
   ]
  },
  {
   "cell_type": "markdown",
   "metadata": {
    "id": "GKCxivFq1rjB"
   },
   "source": [
    "**CODE**\n",
    "\n",
    "We need to drop the Weather Type column from data_scaled_labeled to get the X and pick Weather Type column to get Y\n",
    "\n",
    "Use 90-10 split of data, i.e. 90% for training, 10% for testing"
   ]
  },
  {
   "cell_type": "code",
   "execution_count": 111,
   "metadata": {
    "id": "e-gDICS-mZYG"
   },
   "outputs": [],
   "source": [
    "X = data_scaled_labeled.drop(columns=['Weather Type'])\n",
    "y = data_scaled_labeled['Weather Type']\n",
    "\n",
    "from sklearn.model_selection import train_test_split\n",
    "\n",
    "X_train, X_test, y_train, y_test = train_test_split(X,y, train_size = 0.9, random_state = 10)"
   ]
  },
  {
   "cell_type": "markdown",
   "metadata": {
    "id": "WjR9MqGMpJ82"
   },
   "source": [
    "**TEST** (DON'T EDIT THIS CELL)"
   ]
  },
  {
   "cell_type": "code",
   "execution_count": 112,
   "metadata": {
    "id": "q5ZtYcaxKzFK"
   },
   "outputs": [
    {
     "name": "stdout",
     "output_type": "stream",
     "text": [
      "\u001b[32mTest Passed\u001b[0m\n",
      "\u001b[32mTest Passed\u001b[0m\n"
     ]
    }
   ],
   "source": [
    "# DON'T EDIT THIS CELL\n",
    "\n",
    "if (len(X_train)==11880 and len(X_test)==1320):\n",
    "  print(f\"\\033[32mTest Passed\\033[0m\")\n",
    "else:\n",
    "  print(f\"\\033[31mTest Failed\\033[0m\")\n",
    "\n",
    "if (len(y_train)==11880 and len(y_test)==1320):\n",
    "  print(f\"\\033[32mTest Passed\\033[0m\")\n",
    "else:\n",
    "  print(f\"\\033[31mTest Failed\\033[0m\")"
   ]
  },
  {
   "cell_type": "code",
   "execution_count": 113,
   "metadata": {
    "id": "uwYLbRwPzNBd"
   },
   "outputs": [
    {
     "data": {
      "text/html": [
       "<div>\n",
       "<style scoped>\n",
       "    .dataframe tbody tr th:only-of-type {\n",
       "        vertical-align: middle;\n",
       "    }\n",
       "\n",
       "    .dataframe tbody tr th {\n",
       "        vertical-align: top;\n",
       "    }\n",
       "\n",
       "    .dataframe thead th {\n",
       "        text-align: right;\n",
       "    }\n",
       "</style>\n",
       "<table border=\"1\" class=\"dataframe\">\n",
       "  <thead>\n",
       "    <tr style=\"text-align: right;\">\n",
       "      <th></th>\n",
       "      <th>Cloud Cover</th>\n",
       "      <th>Season</th>\n",
       "      <th>Location</th>\n",
       "      <th>Temperature</th>\n",
       "      <th>Humidity</th>\n",
       "      <th>Wind Speed</th>\n",
       "      <th>Precipitation (%)</th>\n",
       "      <th>Atmospheric Pressure</th>\n",
       "      <th>UV Index</th>\n",
       "      <th>Visibility (km)</th>\n",
       "    </tr>\n",
       "  </thead>\n",
       "  <tbody>\n",
       "    <tr>\n",
       "      <th>7017</th>\n",
       "      <td>2.0</td>\n",
       "      <td>3.0</td>\n",
       "      <td>2.0</td>\n",
       "      <td>0.337774</td>\n",
       "      <td>0.162883</td>\n",
       "      <td>0.748042</td>\n",
       "      <td>1.044147</td>\n",
       "      <td>-0.383833</td>\n",
       "      <td>-0.779410</td>\n",
       "      <td>-1.027154</td>\n",
       "    </tr>\n",
       "    <tr>\n",
       "      <th>12278</th>\n",
       "      <td>2.0</td>\n",
       "      <td>1.0</td>\n",
       "      <td>0.0</td>\n",
       "      <td>-0.352450</td>\n",
       "      <td>0.559050</td>\n",
       "      <td>0.820417</td>\n",
       "      <td>1.263271</td>\n",
       "      <td>0.262435</td>\n",
       "      <td>-0.520104</td>\n",
       "      <td>-0.137308</td>\n",
       "    </tr>\n",
       "    <tr>\n",
       "      <th>2859</th>\n",
       "      <td>3.0</td>\n",
       "      <td>3.0</td>\n",
       "      <td>1.0</td>\n",
       "      <td>0.280255</td>\n",
       "      <td>0.261924</td>\n",
       "      <td>-0.627087</td>\n",
       "      <td>0.605898</td>\n",
       "      <td>0.158666</td>\n",
       "      <td>1.813646</td>\n",
       "      <td>4.311920</td>\n",
       "    </tr>\n",
       "    <tr>\n",
       "      <th>5495</th>\n",
       "      <td>2.0</td>\n",
       "      <td>1.0</td>\n",
       "      <td>2.0</td>\n",
       "      <td>-0.294931</td>\n",
       "      <td>0.757134</td>\n",
       "      <td>0.458541</td>\n",
       "      <td>0.073739</td>\n",
       "      <td>-0.112315</td>\n",
       "      <td>-0.260799</td>\n",
       "      <td>-0.137308</td>\n",
       "    </tr>\n",
       "    <tr>\n",
       "      <th>8469</th>\n",
       "      <td>2.0</td>\n",
       "      <td>1.0</td>\n",
       "      <td>2.0</td>\n",
       "      <td>-0.179894</td>\n",
       "      <td>-0.381848</td>\n",
       "      <td>-0.337587</td>\n",
       "      <td>-0.270600</td>\n",
       "      <td>0.247918</td>\n",
       "      <td>-0.779410</td>\n",
       "      <td>0.455922</td>\n",
       "    </tr>\n",
       "  </tbody>\n",
       "</table>\n",
       "</div>"
      ],
      "text/plain": [
       "       Cloud Cover  Season  Location  Temperature  Humidity  Wind Speed  \\\n",
       "7017           2.0     3.0       2.0     0.337774  0.162883    0.748042   \n",
       "12278          2.0     1.0       0.0    -0.352450  0.559050    0.820417   \n",
       "2859           3.0     3.0       1.0     0.280255  0.261924   -0.627087   \n",
       "5495           2.0     1.0       2.0    -0.294931  0.757134    0.458541   \n",
       "8469           2.0     1.0       2.0    -0.179894 -0.381848   -0.337587   \n",
       "\n",
       "       Precipitation (%)  Atmospheric Pressure  UV Index  Visibility (km)  \n",
       "7017            1.044147             -0.383833 -0.779410        -1.027154  \n",
       "12278           1.263271              0.262435 -0.520104        -0.137308  \n",
       "2859            0.605898              0.158666  1.813646         4.311920  \n",
       "5495            0.073739             -0.112315 -0.260799        -0.137308  \n",
       "8469           -0.270600              0.247918 -0.779410         0.455922  "
      ]
     },
     "execution_count": 113,
     "metadata": {},
     "output_type": "execute_result"
    }
   ],
   "source": [
    "X_train.head()"
   ]
  },
  {
   "cell_type": "markdown",
   "metadata": {
    "id": "upeKo2UVs8WH"
   },
   "source": [
    "# Training and Testing\n",
    "Use any suitable classifier to fit the training data and check the accuracy on test data\n",
    "\n",
    "Don't forget to import that library"
   ]
  },
  {
   "cell_type": "markdown",
   "metadata": {
    "id": "amPA5lMY3adM"
   },
   "source": [
    "**CODE**\n",
    "\n",
    "ACCURACY should be more than 90%,\n",
    "\n",
    "1. Fit the model to X_train and y_train\n",
    "2. Find the model score on X_test and y_test"
   ]
  },
  {
   "cell_type": "code",
   "execution_count": 114,
   "metadata": {
    "id": "yei6MWgW0Si9"
   },
   "outputs": [
    {
     "name": "stdout",
     "output_type": "stream",
     "text": [
      "Accuracy: 90.68181818181819\n"
     ]
    }
   ],
   "source": [
    "# START CODE HERE\n",
    "\n",
    "from sklearn.svm import SVC\n",
    "\n",
    "model = SVC(C=5)\n",
    "model.fit(X_train,y_train)\n",
    "score = model.score(X_test,y_test)\n",
    "\n",
    "# END CODE HERE\n",
    "\n",
    "print(\"Accuracy:\", score*100)"
   ]
  },
  {
   "cell_type": "markdown",
   "metadata": {
    "id": "gv0LHa5FuDSU"
   },
   "source": [
    "**TEST** (DON'T EDIT THIS CELL)"
   ]
  },
  {
   "cell_type": "code",
   "execution_count": 115,
   "metadata": {
    "id": "WYopYL5MuAam"
   },
   "outputs": [
    {
     "name": "stdout",
     "output_type": "stream",
     "text": [
      "\u001b[32mTest Passed\u001b[0m\n"
     ]
    }
   ],
   "source": [
    "# DON'T EDIT THIS CELL\n",
    "\n",
    "if (score>0.90):\n",
    "  print(f\"\\033[32mTest Passed\\033[0m\")\n",
    "else:\n",
    "  print(f\"\\033[31mTest Failed\\033[0m\")"
   ]
  },
  {
   "cell_type": "markdown",
   "metadata": {
    "id": "pOnUEVEsuQlA"
   },
   "source": [
    "# Predicting Output (Here, Weather Type) (Optional)"
   ]
  },
  {
   "cell_type": "code",
   "execution_count": 116,
   "metadata": {
    "id": "oAvmODuFwDNl"
   },
   "outputs": [
    {
     "data": {
      "text/html": [
       "<div>\n",
       "<style scoped>\n",
       "    .dataframe tbody tr th:only-of-type {\n",
       "        vertical-align: middle;\n",
       "    }\n",
       "\n",
       "    .dataframe tbody tr th {\n",
       "        vertical-align: top;\n",
       "    }\n",
       "\n",
       "    .dataframe thead th {\n",
       "        text-align: right;\n",
       "    }\n",
       "</style>\n",
       "<table border=\"1\" class=\"dataframe\">\n",
       "  <thead>\n",
       "    <tr style=\"text-align: right;\">\n",
       "      <th></th>\n",
       "      <th>Cloud Cover</th>\n",
       "      <th>Season</th>\n",
       "      <th>Location</th>\n",
       "      <th>Temperature</th>\n",
       "      <th>Humidity</th>\n",
       "      <th>Wind Speed</th>\n",
       "      <th>Precipitation (%)</th>\n",
       "      <th>Atmospheric Pressure</th>\n",
       "      <th>UV Index</th>\n",
       "      <th>Visibility (km)</th>\n",
       "    </tr>\n",
       "  </thead>\n",
       "  <tbody>\n",
       "    <tr>\n",
       "      <th>11923</th>\n",
       "      <td>2.0</td>\n",
       "      <td>3.0</td>\n",
       "      <td>1.0</td>\n",
       "      <td>-0.870118</td>\n",
       "      <td>-0.332327</td>\n",
       "      <td>-1.133714</td>\n",
       "      <td>1.138057</td>\n",
       "      <td>-0.168500</td>\n",
       "      <td>-1.038715</td>\n",
       "      <td>-0.582231</td>\n",
       "    </tr>\n",
       "    <tr>\n",
       "      <th>2331</th>\n",
       "      <td>2.0</td>\n",
       "      <td>3.0</td>\n",
       "      <td>2.0</td>\n",
       "      <td>-1.330267</td>\n",
       "      <td>-1.223703</td>\n",
       "      <td>-1.423215</td>\n",
       "      <td>0.637201</td>\n",
       "      <td>-3.872176</td>\n",
       "      <td>0.257813</td>\n",
       "      <td>0.010999</td>\n",
       "    </tr>\n",
       "    <tr>\n",
       "      <th>217</th>\n",
       "      <td>2.0</td>\n",
       "      <td>1.0</td>\n",
       "      <td>1.0</td>\n",
       "      <td>-0.007338</td>\n",
       "      <td>1.301864</td>\n",
       "      <td>0.458541</td>\n",
       "      <td>0.887629</td>\n",
       "      <td>-0.063119</td>\n",
       "      <td>-0.520104</td>\n",
       "      <td>-0.433923</td>\n",
       "    </tr>\n",
       "    <tr>\n",
       "      <th>1760</th>\n",
       "      <td>2.0</td>\n",
       "      <td>1.0</td>\n",
       "      <td>2.0</td>\n",
       "      <td>-0.582524</td>\n",
       "      <td>-0.134243</td>\n",
       "      <td>-1.061339</td>\n",
       "      <td>-0.708848</td>\n",
       "      <td>4.387906</td>\n",
       "      <td>2.332257</td>\n",
       "      <td>1.197460</td>\n",
       "    </tr>\n",
       "    <tr>\n",
       "      <th>3963</th>\n",
       "      <td>0.0</td>\n",
       "      <td>2.0</td>\n",
       "      <td>1.0</td>\n",
       "      <td>0.452811</td>\n",
       "      <td>-1.025620</td>\n",
       "      <td>-0.482337</td>\n",
       "      <td>-1.241007</td>\n",
       "      <td>0.632883</td>\n",
       "      <td>1.035729</td>\n",
       "      <td>0.752538</td>\n",
       "    </tr>\n",
       "    <tr>\n",
       "      <th>...</th>\n",
       "      <td>...</td>\n",
       "      <td>...</td>\n",
       "      <td>...</td>\n",
       "      <td>...</td>\n",
       "      <td>...</td>\n",
       "      <td>...</td>\n",
       "      <td>...</td>\n",
       "      <td>...</td>\n",
       "      <td>...</td>\n",
       "      <td>...</td>\n",
       "    </tr>\n",
       "    <tr>\n",
       "      <th>8256</th>\n",
       "      <td>2.0</td>\n",
       "      <td>3.0</td>\n",
       "      <td>1.0</td>\n",
       "      <td>-1.560341</td>\n",
       "      <td>-0.332327</td>\n",
       "      <td>0.892792</td>\n",
       "      <td>0.355470</td>\n",
       "      <td>-0.341358</td>\n",
       "      <td>-0.779410</td>\n",
       "      <td>-1.027154</td>\n",
       "    </tr>\n",
       "    <tr>\n",
       "      <th>5115</th>\n",
       "      <td>3.0</td>\n",
       "      <td>3.0</td>\n",
       "      <td>1.0</td>\n",
       "      <td>0.510330</td>\n",
       "      <td>0.162883</td>\n",
       "      <td>0.024290</td>\n",
       "      <td>-0.990580</td>\n",
       "      <td>-0.053172</td>\n",
       "      <td>-0.001493</td>\n",
       "      <td>0.752538</td>\n",
       "    </tr>\n",
       "    <tr>\n",
       "      <th>2862</th>\n",
       "      <td>2.0</td>\n",
       "      <td>2.0</td>\n",
       "      <td>2.0</td>\n",
       "      <td>0.625367</td>\n",
       "      <td>0.509529</td>\n",
       "      <td>-0.699463</td>\n",
       "      <td>0.981540</td>\n",
       "      <td>-0.390285</td>\n",
       "      <td>-0.520104</td>\n",
       "      <td>-0.285616</td>\n",
       "    </tr>\n",
       "    <tr>\n",
       "      <th>4439</th>\n",
       "      <td>2.0</td>\n",
       "      <td>3.0</td>\n",
       "      <td>1.0</td>\n",
       "      <td>-1.445304</td>\n",
       "      <td>1.252343</td>\n",
       "      <td>-1.061339</td>\n",
       "      <td>1.231967</td>\n",
       "      <td>-0.446740</td>\n",
       "      <td>-0.779410</td>\n",
       "      <td>-1.175461</td>\n",
       "    </tr>\n",
       "    <tr>\n",
       "      <th>6652</th>\n",
       "      <td>3.0</td>\n",
       "      <td>1.0</td>\n",
       "      <td>2.0</td>\n",
       "      <td>0.740404</td>\n",
       "      <td>-0.134243</td>\n",
       "      <td>-1.206089</td>\n",
       "      <td>-0.646241</td>\n",
       "      <td>0.135547</td>\n",
       "      <td>-0.779410</td>\n",
       "      <td>0.900845</td>\n",
       "    </tr>\n",
       "  </tbody>\n",
       "</table>\n",
       "<p>1320 rows × 10 columns</p>\n",
       "</div>"
      ],
      "text/plain": [
       "       Cloud Cover  Season  Location  Temperature  Humidity  Wind Speed  \\\n",
       "11923          2.0     3.0       1.0    -0.870118 -0.332327   -1.133714   \n",
       "2331           2.0     3.0       2.0    -1.330267 -1.223703   -1.423215   \n",
       "217            2.0     1.0       1.0    -0.007338  1.301864    0.458541   \n",
       "1760           2.0     1.0       2.0    -0.582524 -0.134243   -1.061339   \n",
       "3963           0.0     2.0       1.0     0.452811 -1.025620   -0.482337   \n",
       "...            ...     ...       ...          ...       ...         ...   \n",
       "8256           2.0     3.0       1.0    -1.560341 -0.332327    0.892792   \n",
       "5115           3.0     3.0       1.0     0.510330  0.162883    0.024290   \n",
       "2862           2.0     2.0       2.0     0.625367  0.509529   -0.699463   \n",
       "4439           2.0     3.0       1.0    -1.445304  1.252343   -1.061339   \n",
       "6652           3.0     1.0       2.0     0.740404 -0.134243   -1.206089   \n",
       "\n",
       "       Precipitation (%)  Atmospheric Pressure  UV Index  Visibility (km)  \n",
       "11923           1.138057             -0.168500 -1.038715        -0.582231  \n",
       "2331            0.637201             -3.872176  0.257813         0.010999  \n",
       "217             0.887629             -0.063119 -0.520104        -0.433923  \n",
       "1760           -0.708848              4.387906  2.332257         1.197460  \n",
       "3963           -1.241007              0.632883  1.035729         0.752538  \n",
       "...                  ...                   ...       ...              ...  \n",
       "8256            0.355470             -0.341358 -0.779410        -1.027154  \n",
       "5115           -0.990580             -0.053172 -0.001493         0.752538  \n",
       "2862            0.981540             -0.390285 -0.520104        -0.285616  \n",
       "4439            1.231967             -0.446740 -0.779410        -1.175461  \n",
       "6652           -0.646241              0.135547 -0.779410         0.900845  \n",
       "\n",
       "[1320 rows x 10 columns]"
      ]
     },
     "execution_count": 116,
     "metadata": {},
     "output_type": "execute_result"
    }
   ],
   "source": [
    "input = X_test\n",
    "input"
   ]
  },
  {
   "cell_type": "code",
   "execution_count": 117,
   "metadata": {
    "id": "jZAkEyqUONIc"
   },
   "outputs": [
    {
     "name": "stdout",
     "output_type": "stream",
     "text": [
      "[2. 0. 1. ... 1. 2. 0.]\n"
     ]
    }
   ],
   "source": [
    "y = model.predict(input)\n",
    "counts=0\n",
    "print(y)\n",
    "# some = y_test.to_numpy\n",
    "# for i in range(len(y)):\n",
    "#     if y[i]==some[i]:\n",
    "#         counts+=1"
   ]
  },
  {
   "cell_type": "markdown",
   "metadata": {
    "id": "zuNM1UNPyY7p"
   },
   "source": [
    "Here, the outputs are in numbers. We can perform inverse column transfer for getiing the string values.\n"
   ]
  },
  {
   "cell_type": "code",
   "execution_count": 120,
   "metadata": {},
   "outputs": [
    {
     "name": "stdout",
     "output_type": "stream",
     "text": [
      "Accuracy: 92.95454545454545\n"
     ]
    }
   ],
   "source": [
    "from sklearn.ensemble import RandomForestClassifier\n",
    "model2 = RandomForestClassifier(n_estimators=25, criterion='gini')\n",
    "model2.fit(X_train, y_train)\n",
    "score = model2.score(X_test,y_test)\n",
    "\n",
    "# END CODE HERE\n",
    "\n",
    "print(\"Accuracy:\", score*100)"
   ]
  },
  {
   "cell_type": "code",
   "execution_count": null,
   "metadata": {},
   "outputs": [],
   "source": []
  },
  {
   "cell_type": "code",
   "execution_count": null,
   "metadata": {},
   "outputs": [],
   "source": []
  }
 ],
 "metadata": {
  "colab": {
   "provenance": []
  },
  "kernelspec": {
   "display_name": "Python 3 (ipykernel)",
   "language": "python",
   "name": "python3"
  },
  "language_info": {
   "codemirror_mode": {
    "name": "ipython",
    "version": 3
   },
   "file_extension": ".py",
   "mimetype": "text/x-python",
   "name": "python",
   "nbconvert_exporter": "python",
   "pygments_lexer": "ipython3",
   "version": "3.12.3"
  }
 },
 "nbformat": 4,
 "nbformat_minor": 4
}
